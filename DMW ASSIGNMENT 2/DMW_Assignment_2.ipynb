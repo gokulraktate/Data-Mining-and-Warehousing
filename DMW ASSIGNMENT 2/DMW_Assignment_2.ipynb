{
 "cells": [
  {
   "cell_type": "code",
   "execution_count": 14,
   "id": "ee65b01a-319c-407f-b9b9-3e9b25535805",
   "metadata": {},
   "outputs": [],
   "source": [
    "# STEP 1\n",
    "\n",
    "import pandas as pd;\n",
    "import numpy as np;\n",
    "import matplotlib.pyplot as plt;\n",
    "import seaborn as sns;"
   ]
  },
  {
   "cell_type": "code",
   "execution_count": 15,
   "id": "88ff76dd",
   "metadata": {},
   "outputs": [
    {
     "name": "stdout",
     "output_type": "stream",
     "text": [
      "   Unnamed: 0  Age  Sex     ChestPain  RestBP  Chol  Fbs  RestECG  MaxHR  \\\n",
      "0           1   63    1       typical     145   233    1        2    150   \n",
      "1           2   67    1  asymptomatic     160   286    0        2    108   \n",
      "2           3   67    1  asymptomatic     120   229    0        2    129   \n",
      "3           4   37    1    nonanginal     130   250    0        0    187   \n",
      "4           5   41    0    nontypical     130   204    0        2    172   \n",
      "\n",
      "   ExAng  Oldpeak  Slope   Ca        Thal  AHD  \n",
      "0      0      2.3      3  0.0       fixed   No  \n",
      "1      1      1.5      2  3.0      normal  Yes  \n",
      "2      1      2.6      2  2.0  reversable  Yes  \n",
      "3      0      3.5      3  0.0      normal   No  \n",
      "4      0      1.4      1  0.0      normal   No  \n"
     ]
    }
   ],
   "source": [
    "#STEP 2\n",
    "\n",
    "# Load the data set\n",
    "df = pd.read_csv('heart.csv')\n",
    "\n",
    "# Display the first 5 ros of the dataset\n",
    "print(df.head())"
   ]
  },
  {
   "cell_type": "code",
   "execution_count": 16,
   "id": "5c36c8a1",
   "metadata": {},
   "outputs": [
    {
     "name": "stdout",
     "output_type": "stream",
     "text": [
      "     Unnamed: 0    Age    Sex  ChestPain  RestBP   Chol    Fbs  RestECG  \\\n",
      "0         False  False  False      False   False  False  False    False   \n",
      "1         False  False  False      False   False  False  False    False   \n",
      "2         False  False  False      False   False  False  False    False   \n",
      "3         False  False  False      False   False  False  False    False   \n",
      "4         False  False  False      False   False  False  False    False   \n",
      "..          ...    ...    ...        ...     ...    ...    ...      ...   \n",
      "298       False  False  False      False   False  False  False    False   \n",
      "299       False  False  False      False   False  False  False    False   \n",
      "300       False  False  False      False   False  False  False    False   \n",
      "301       False  False  False      False   False  False  False    False   \n",
      "302       False  False  False      False   False  False  False    False   \n",
      "\n",
      "     MaxHR  ExAng  Oldpeak  Slope     Ca   Thal    AHD  \n",
      "0    False  False    False  False  False  False  False  \n",
      "1    False  False    False  False  False  False  False  \n",
      "2    False  False    False  False  False  False  False  \n",
      "3    False  False    False  False  False  False  False  \n",
      "4    False  False    False  False  False  False  False  \n",
      "..     ...    ...      ...    ...    ...    ...    ...  \n",
      "298  False  False    False  False  False  False  False  \n",
      "299  False  False    False  False  False  False  False  \n",
      "300  False  False    False  False  False  False  False  \n",
      "301  False  False    False  False  False  False  False  \n",
      "302  False  False    False  False   True  False  False  \n",
      "\n",
      "[303 rows x 15 columns]\n",
      "Unnamed: 0    0\n",
      "Age           0\n",
      "Sex           0\n",
      "ChestPain     0\n",
      "RestBP        0\n",
      "Chol          0\n",
      "Fbs           0\n",
      "RestECG       0\n",
      "MaxHR         0\n",
      "ExAng         0\n",
      "Oldpeak       0\n",
      "Slope         0\n",
      "Ca            4\n",
      "Thal          2\n",
      "AHD           0\n",
      "dtype: int64\n"
     ]
    }
   ],
   "source": [
    "# STEP 3\n",
    "\n",
    "# Check the null values \n",
    "print(df.isnull())\n",
    "\n",
    "# Check number of null values in each column\n",
    "print(df.isnull().sum())"
   ]
  },
  {
   "cell_type": "code",
   "execution_count": 17,
   "id": "6a365f3f",
   "metadata": {},
   "outputs": [
    {
     "name": "stdout",
     "output_type": "stream",
     "text": [
      "0.9900990099009901\n"
     ]
    }
   ],
   "source": [
    "# STEP 4 - Calculate the mean of 'restecg' column without using sum() and len()\n",
    "\n",
    "# Extract 'restecg' column values as a list\n",
    "restecg_column = list(df['RestECG'])\n",
    "\n",
    "# Calculate mean without using sum() or len()\n",
    "total = 0\n",
    "count = 0\n",
    "for value in restecg_column:\n",
    "    total += value\n",
    "    count += 1\n",
    "mean_restecg = total / count\n",
    "print(mean_restecg)"
   ]
  },
  {
   "cell_type": "code",
   "execution_count": 18,
   "id": "e045e487",
   "metadata": {},
   "outputs": [
    {
     "name": "stdout",
     "output_type": "stream",
     "text": [
      "Variance of 'restecg': 0.9867006502630488\n"
     ]
    }
   ],
   "source": [
    "# Step 5 - Calculate the variance of restecg\n",
    "\n",
    "variance_sum = 0\n",
    "for value in restecg_column:\n",
    "    variance_sum += (value - mean_restecg) ** 2\n",
    "variance_restecg = variance_sum / count\n",
    "\n",
    "# Print the variance\n",
    "print(\"Variance of 'restecg':\", variance_restecg)"
   ]
  },
  {
   "cell_type": "code",
   "execution_count": 19,
   "id": "bdf98930",
   "metadata": {},
   "outputs": [
    {
     "name": "stdout",
     "output_type": "stream",
     "text": [
      "Standard deviation of 'restecg' is : 0.9933280677918277\n"
     ]
    }
   ],
   "source": [
    "# Step 6 - Calculate the standard deviation of restecg\n",
    "\n",
    "# Calculate standard deviation (square root of variance)\n",
    "std_dev_restEcg = np.std(restecg_column)  # Standard deviation\n",
    "print(\"Standard deviation of 'restecg' is :\", std_dev_restEcg)\n"
   ]
  },
  {
   "cell_type": "code",
   "execution_count": 20,
   "id": "eba05826",
   "metadata": {},
   "outputs": [
    {
     "name": "stdout",
     "output_type": "stream",
     "text": [
      "Covariance between 'Age' and 'RestECG': 1.3343789824527004\n"
     ]
    }
   ],
   "source": [
    "# Step 7 - Calculate the covariance between 'age' and 'restecg'\n",
    "\n",
    "# Step 1: Calculate the mean of 'age' and 'restecg'\n",
    "# Formula: Mean(μ) = (ΣX) / N\n",
    "mean_age = df['Age'].mean()  # Mean of 'age'\n",
    "mean_restecg = df['RestECG'].mean()  # Mean of 'restecg'\n",
    "\n",
    "# Step 2: Compute deviations from the mean\n",
    "# Formula: X_diff = X - Mean(X)\n",
    "df['age_diff'] = df['Age'] - mean_age  # Difference of each 'age' value from mean\n",
    "df['restecg_diff'] = df['RestECG'] - mean_restecg  # Difference of each 'restecg' value from mean\n",
    "\n",
    "# Step 3: Multiply deviations for each row\n",
    "# Formula: (X - Mean(X)) * (Y - Mean(Y))\n",
    "df['product'] = df['age_diff'] * df['restecg_diff']\n",
    "\n",
    "# Step 4: Compute covariance\n",
    "# Formula: Cov(X, Y) = Σ[(X - Mean(X)) * (Y - Mean(Y))] / N\n",
    "covariance_age_restecg = df['product'].sum() / len(df)  # Population covariance (N denominator)\n",
    "\n",
    "# Print the result\n",
    "print(\"Covariance between 'Age' and 'RestECG':\", covariance_age_restecg)"
   ]
  },
  {
   "cell_type": "code",
   "execution_count": 21,
   "id": "1e2d49a7",
   "metadata": {},
   "outputs": [
    {
     "name": "stdout",
     "output_type": "stream",
     "text": [
      "Correlation between 'Age' and 'RestECG': 0.14886759109352646\n"
     ]
    }
   ],
   "source": [
    "# Step 8 - Calculate the correlation between 'age' and 'restecg'\n",
    "\n",
    "# Step 1: Calculate the mean of 'age' and 'restecg'\n",
    "mean_age = df['Age'].mean()\n",
    "mean_restecg = df['RestECG'].mean()\n",
    "\n",
    "# Step 2: Compute deviations from the mean\n",
    "df['age_diff'] = df['Age'] - mean_age\n",
    "df['restecg_diff'] = df['RestECG'] - mean_restecg\n",
    "\n",
    "# Step 3: Multiply deviations for each row and calculate covariance\n",
    "df['product'] = df['age_diff'] * df['restecg_diff']\n",
    "covariance_age_restecg = df['product'].sum() / len(df)  # Population covariance\n",
    "\n",
    "# Step 4: Compute standard deviations (σ)\n",
    "std_dev_age = (df['age_diff']**2).sum() / len(df)  # Variance of 'age'\n",
    "std_dev_restecg = (df['restecg_diff']**2).sum() / len(df)  # Variance of 'restecg'\n",
    "\n",
    "std_dev_age = std_dev_age ** 0.5  # Square root to get standard deviation\n",
    "std_dev_restecg = std_dev_restecg ** 0.5  # Square root to get standard deviation\n",
    "\n",
    "# Step 5: Compute correlation (Pearson's r)\n",
    "correlation_age_restecg = covariance_age_restecg / (std_dev_age * std_dev_restecg)\n",
    "\n",
    "# Print the result\n",
    "print(\"Correlation between 'Age' and 'RestECG':\", correlation_age_restecg)"
   ]
  },
  {
   "cell_type": "code",
   "execution_count": null,
   "id": "dc189c25-fb73-472d-b81e-dc4b764a6a93",
   "metadata": {},
   "outputs": [],
   "source": []
  }
 ],
 "metadata": {
  "kernelspec": {
   "display_name": "Python 3 (ipykernel)",
   "language": "python",
   "name": "python3"
  },
  "language_info": {
   "codemirror_mode": {
    "name": "ipython",
    "version": 3
   },
   "file_extension": ".py",
   "mimetype": "text/x-python",
   "name": "python",
   "nbconvert_exporter": "python",
   "pygments_lexer": "ipython3",
   "version": "3.8.2"
  }
 },
 "nbformat": 4,
 "nbformat_minor": 5
}
